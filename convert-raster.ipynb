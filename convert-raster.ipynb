{
 "cells": [
  {
   "cell_type": "code",
   "execution_count": null,
   "metadata": {
    "is_executing": true
   },
   "outputs": [],
   "source": [
    "from osgeo import gdal\n",
    "from PIL import Image\n",
    "from PIL.TiffTags import TAGS\n",
    "from os.path import exists"
   ]
  },
  {
   "cell_type": "code",
   "execution_count": null,
   "metadata": {
    "is_executing": true
   },
   "outputs": [],
   "source": [
    "# check out input file\n",
    "input='/Users/philipp/BPLA Dropbox/03 Planning/1297-Makkah-Environmental-Sustainability-Strategy/02-Data/02-satellite/Makkah-WV2-ST-2023_I602488/Makkah-WV2-ST-2023-MOS/23JAN19075627-S2AM-Makkah-WV2-ST-2023.'\n",
    "print(exists(input))\n",
    "\n",
    "Image.MAX_IMAGE_PIXELS = 27102756380\n",
    "img=Image.open(input)\n",
    "print(img.getbands())\n",
    "\n",
    "# reduce bands in tif\n",
    "output ='D:\\\\Dropbox\\\\P.Robeck\\\\BPLA Dropbox\\\\07 Temp\\\\Hankos_Submittals\\\\221001_DQ_ECW2022\\\\Tiff\\\\DQ_2022_3b.png'"
   ]
  },
  {
   "cell_type": "code",
   "execution_count": null,
   "metadata": {},
   "outputs": [],
   "source": [
    "options_list = [\n",
    "    # '-tr 0.3 0.3'\n",
    "    '-ot Byte',\n",
    "    '-of PNG',\n",
    "    '-b 1',\n",
    "    '-b 2',\n",
    "    '-b 3',\n",
    "    'WORLDFILE=YES'\n",
    "]\n",
    "options_string = \" \".join(options_list)"
   ]
  },
  {
   "cell_type": "code",
   "execution_count": null,
   "metadata": {},
   "outputs": [],
   "source": [
    "out = gdal.Translate(srcDS=input, destName=output, options=options_string)"
   ]
  },
  {
   "cell_type": "code",
   "execution_count": null,
   "metadata": {},
   "outputs": [],
   "source": [
    "img.size"
   ]
  },
  {
   "cell_type": "code",
   "execution_count": null,
   "metadata": {},
   "outputs": [],
   "source": []
  }
 ],
 "metadata": {
  "kernelspec": {
   "display_name": "Python 3.10.8 (conda)",
   "language": "python",
   "name": "python3"
  },
  "language_info": {
   "codemirror_mode": {
    "name": "ipython",
    "version": 3
   },
   "file_extension": ".py",
   "mimetype": "text/x-python",
   "name": "python",
   "nbconvert_exporter": "python",
   "pygments_lexer": "ipython3",
   "version": "3.10.8"
  },
  "orig_nbformat": 4,
  "vscode": {
   "interpreter": {
    "hash": "2e856b1243f601988b8b7df49ef3009e00722fa1b419431e3e69718da024a807"
   }
  }
 },
 "nbformat": 4,
 "nbformat_minor": 2
}
