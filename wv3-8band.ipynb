{
 "cells": [
  {
   "cell_type": "code",
   "execution_count": 1,
   "outputs": [
    {
     "ename": "ModuleNotFoundError",
     "evalue": "No module named 'fulcrum'",
     "output_type": "error",
     "traceback": [
      "\u001B[0;31m---------------------------------------------------------------------------\u001B[0m",
      "\u001B[0;31mModuleNotFoundError\u001B[0m                       Traceback (most recent call last)",
      "Cell \u001B[0;32mIn[1], line 16\u001B[0m\n\u001B[1;32m     14\u001B[0m \u001B[38;5;28;01mimport\u001B[39;00m \u001B[38;5;21;01mgeopandas\u001B[39;00m \u001B[38;5;28;01mas\u001B[39;00m \u001B[38;5;21;01mgpd\u001B[39;00m\n\u001B[1;32m     15\u001B[0m \u001B[38;5;28;01mimport\u001B[39;00m \u001B[38;5;21;01mfiona\u001B[39;00m\n\u001B[0;32m---> 16\u001B[0m \u001B[38;5;28;01mfrom\u001B[39;00m \u001B[38;5;21;01mfulcrum\u001B[39;00m \u001B[38;5;28;01mimport\u001B[39;00m Fulcrum\n\u001B[1;32m     17\u001B[0m \u001B[38;5;28;01mimport\u001B[39;00m \u001B[38;5;21;01mrasterio\u001B[39;00m\n\u001B[1;32m     18\u001B[0m \u001B[38;5;28;01mfrom\u001B[39;00m \u001B[38;5;21;01mrasterstats\u001B[39;00m \u001B[38;5;28;01mimport\u001B[39;00m zonal_stats\n",
      "\u001B[0;31mModuleNotFoundError\u001B[0m: No module named 'fulcrum'"
     ]
    }
   ],
   "source": [
    "# imports\n",
    "import rasterio\n",
    "import numpy as np\n",
    "from osgeo import gdal, gdalconst, osr\n",
    "gdal.UseExceptions()  # not required, but a good idea\n",
    "gdal.AllRegister()"
   ],
   "metadata": {
    "collapsed": false,
    "ExecuteTime": {
     "end_time": "2023-09-16T13:44:47.930078Z",
     "start_time": "2023-09-16T13:44:32.656586Z"
    }
   }
  },
  {
   "cell_type": "code",
   "execution_count": null,
   "outputs": [],
   "source": [
    "# data \n",
    "wv3src = r\"D:\\BPLA Dropbox\\08 GIS-data\\GIS-data-Riyadh\\2021-WorldView3-8BAnds\\21MAY13074013-S2AS-RCRC-8Bands.TIF\"\n",
    "wv4dst= r\"D:\\BPLA Dropbox\\08 GIS-data\\GIS-data-Riyadh\\2021-WorldView3-8BAnds\\21MAY13074013-S2AS-RCRC-8Bands-SAVI.TIF\"\n",
    "src=rasterio.open(wv3src)"
   ],
   "metadata": {
    "collapsed": false
   }
  },
  {
   "cell_type": "code",
   "execution_count": null,
   "outputs": [],
   "source": [
    "def process_NDVI_image(src_img, dst_img, nir_band_id=8,red_band_id=5):\n",
    "    with rasterio.open(src_img) as src:\n",
    "        kwargs = src.meta\n",
    "        tiles = src.block_windows(red_band_id)\n",
    "        profile = src.profile\n",
    "        # print(profile)\n",
    "        profile.update(\n",
    "            dtype=rasterio.float32,\n",
    "            count=1,\n",
    "            compress='lzw',\n",
    "            BIGTIFF = \"IF_SAFER\")\n",
    "\n",
    "        with rasterio.open(dst_img, 'w', **profile) as dst:\n",
    "            for idx, window in tiles:\n",
    "                print(\"Processing Block: \", idx[0]+1, \", \", idx[1]+1)\n",
    "                np.seterr(divide='ignore', invalid='ignore')\n",
    "                # ndval = src.nodatavals[0]\n",
    "                # print(ndval)\n",
    "                red_data = src.read(red_band_id, window=window)\n",
    "\n",
    "                # red_data[red_data==ndval] = np.nan\n",
    "\n",
    "                nir_data = src.read(nir_band_id, window=window)\n",
    "                # nir_data[nir_data==ndval] = np.nan\n",
    "                ndvi_con=np.where(\n",
    "                    (nir_data.astype(float)+red_data.astype(float))==0., #It will return 0 for No Data value\n",
    "                    0,\n",
    "                    (nir_data.astype(float) - red_data.astype(float)) / (nir_data.astype(float) + red_data.astype(float)))\n",
    "                # ndvi_con = (nir_data - red_data)/(nir_data + red_data)\n",
    "                L = 0.5\n",
    "                savi_con=np.where(\n",
    "                    (nir_data.astype(float)+red_data.astype(float))==0., #It will return 0 for No Data value\n",
    "                    0,\n",
    "                    (nir_data.astype(float) - red_data.astype(float)) / (nir_data.astype(float) + red_data.astype(float) + L) * (1 + L))\n",
    "\n",
    "                dst.write_band(1, savi_con, window=window)\n",
    "                dst.write_band(1, ndvi_con, window=window)\n",
    "\n",
    "    return 0"
   ],
   "metadata": {
    "collapsed": false
   }
  },
  {
   "cell_type": "code",
   "execution_count": null,
   "outputs": [],
   "source": [
    "process_NDVI_image(wv3src,wv4dst)"
   ],
   "metadata": {
    "collapsed": false
   }
  },
  {
   "cell_type": "code",
   "execution_count": null,
   "outputs": [],
   "source": [],
   "metadata": {
    "collapsed": false
   }
  }
 ],
 "metadata": {
  "kernelspec": {
   "display_name": "Python 3",
   "language": "python",
   "name": "python3"
  },
  "language_info": {
   "codemirror_mode": {
    "name": "ipython",
    "version": 2
   },
   "file_extension": ".py",
   "mimetype": "text/x-python",
   "name": "python",
   "nbconvert_exporter": "python",
   "pygments_lexer": "ipython2",
   "version": "2.7.6"
  }
 },
 "nbformat": 4,
 "nbformat_minor": 0
}
