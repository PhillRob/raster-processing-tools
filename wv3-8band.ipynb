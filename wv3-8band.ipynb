{
 "cells": [
  {
   "cell_type": "code",
   "execution_count": null,
   "metadata": {
    "collapsed": true,
    "is_executing": true
   },
   "outputs": [],
   "source": [
    "import os, osgeo\n",
    "# del os.environ['PROJ_LIB']\n",
    "import math\n",
    "from collections import Counter\n",
    "from datetime import datetime, timedelta\n",
    "from geopandas.tools import sjoin\n",
    "from pyproj import proj\n",
    "import pandas as pd\n",
    "import csv\n",
    "import numpy as np\n",
    "import matplotlib.pyplot as plt\n",
    "from shapely.geometry import Point\n",
    "import geopandas as gpd\n",
    "import fiona\n",
    "from fulcrum import Fulcrum\n",
    "import rasterio\n",
    "from rasterstats import zonal_stats\n",
    "import xarray as xr\n",
    "import numpy as np\n",
    "from osgeo import gdal, gdalconst, osr\n",
    "import sys, time, ogr\n",
    "import libpysal\n",
    "gdal.UseExceptions()  # not required, but a good idea\n",
    "gdal.AllRegister()"
   ]
  },
  {
   "cell_type": "code",
   "execution_count": null,
   "outputs": [
    {
     "ename": "NameError",
     "evalue": "name 'rasterio' is not defined",
     "output_type": "error",
     "traceback": [
      "\u001B[0;31m---------------------------------------------------------------------------\u001B[0m",
      "\u001B[0;31mNameError\u001B[0m                                 Traceback (most recent call last)",
      "Cell \u001B[0;32mIn[1], line 3\u001B[0m\n\u001B[1;32m      1\u001B[0m wv3src \u001B[38;5;241m=\u001B[39m \u001B[38;5;124mr\u001B[39m\u001B[38;5;124m\"\u001B[39m\u001B[38;5;124mD:\u001B[39m\u001B[38;5;124m\\\u001B[39m\u001B[38;5;124mBPLA Dropbox\u001B[39m\u001B[38;5;124m\\\u001B[39m\u001B[38;5;124m08 GIS-data\u001B[39m\u001B[38;5;124m\\\u001B[39m\u001B[38;5;124mGIS-data-Riyadh\u001B[39m\u001B[38;5;124m\\\u001B[39m\u001B[38;5;124m2021-WorldView3-8BAnds\u001B[39m\u001B[38;5;124m\\\u001B[39m\u001B[38;5;124m21MAY13074013-S2AS-RCRC-8Bands.TIF\u001B[39m\u001B[38;5;124m\"\u001B[39m\n\u001B[1;32m      2\u001B[0m wv4dst\u001B[38;5;241m=\u001B[39m \u001B[38;5;124mr\u001B[39m\u001B[38;5;124m\"\u001B[39m\u001B[38;5;124mD:\u001B[39m\u001B[38;5;124m\\\u001B[39m\u001B[38;5;124mBPLA Dropbox\u001B[39m\u001B[38;5;124m\\\u001B[39m\u001B[38;5;124m08 GIS-data\u001B[39m\u001B[38;5;124m\\\u001B[39m\u001B[38;5;124mGIS-data-Riyadh\u001B[39m\u001B[38;5;124m\\\u001B[39m\u001B[38;5;124m2021-WorldView3-8BAnds\u001B[39m\u001B[38;5;124m\\\u001B[39m\u001B[38;5;124m21MAY13074013-S2AS-RCRC-8Bands-SAVI.TIF\u001B[39m\u001B[38;5;124m\"\u001B[39m\n\u001B[0;32m----> 3\u001B[0m src\u001B[38;5;241m=\u001B[39m\u001B[43mrasterio\u001B[49m\u001B[38;5;241m.\u001B[39mopen(wv3src)\n",
      "\u001B[0;31mNameError\u001B[0m: name 'rasterio' is not defined"
     ]
    }
   ],
   "source": [
    "wv3src = r\"D:\\BPLA Dropbox\\08 GIS-data\\GIS-data-Riyadh\\2021-WorldView3-8BAnds\\21MAY13074013-S2AS-RCRC-8Bands.TIF\"\n",
    "wv4dst= r\"D:\\BPLA Dropbox\\08 GIS-data\\GIS-data-Riyadh\\2021-WorldView3-8BAnds\\21MAY13074013-S2AS-RCRC-8Bands-SAVI.TIF\"\n",
    "src=rasterio.open(wv3src)\n"
   ],
   "metadata": {
    "collapsed": false,
    "ExecuteTime": {
     "end_time": "2023-07-19T16:39:05.257379Z",
     "start_time": "2023-07-19T16:39:05.034035Z"
    }
   }
  },
  {
   "cell_type": "code",
   "execution_count": 2,
   "outputs": [],
   "source": [
    "def process_NDVI_image(src_img, dst_img, nir_band_id=8,red_band_id=5):\n",
    "    with rasterio.open(src_img) as src:\n",
    "        kwargs = src.meta\n",
    "        tiles = src.block_windows(red_band_id)\n",
    "        profile = src.profile\n",
    "        # print(profile)\n",
    "        profile.update(\n",
    "            dtype=rasterio.float32,\n",
    "            count=1,\n",
    "            compress='lzw',\n",
    "            BIGTIFF = \"IF_SAFER\")\n",
    "\n",
    "        with rasterio.open(dst_img, 'w', **profile) as dst:\n",
    "            for idx, window in tiles:\n",
    "                print(\"Processing Block: \", idx[0]+1, \", \", idx[1]+1)\n",
    "                np.seterr(divide='ignore', invalid='ignore')\n",
    "                # ndval = src.nodatavals[0]\n",
    "                # print(ndval)\n",
    "                red_data = src.read(red_band_id, window=window)\n",
    "\n",
    "                # red_data[red_data==ndval] = np.nan\n",
    "\n",
    "                nir_data = src.read(nir_band_id, window=window)\n",
    "                # nir_data[nir_data==ndval] = np.nan\n",
    "                ndvi_con=np.where(\n",
    "                    (nir_data.astype(float)+red_data.astype(float))==0., #It will return 0 for No Data value\n",
    "                    0,\n",
    "                    (nir_data.astype(float) - red_data.astype(float)) / (nir_data.astype(float) + red_data.astype(float)))\n",
    "                # ndvi_con = (nir_data - red_data)/(nir_data + red_data)\n",
    "                L = 0.5\n",
    "                savi_con=np.where(\n",
    "                    (nir_data.astype(float)+red_data.astype(float))==0., #It will return 0 for No Data value\n",
    "                    0,\n",
    "                    (nir_data.astype(float) - red_data.astype(float)) / (nir_data.astype(float) + red_data.astype(float) + L) * (1 + L))\n",
    "\n",
    "                dst.write_band(1, savi_con, window=window)\n",
    "                dst.write_band(1, ndvi_con, window=window)\n",
    "\n",
    "    return 0"
   ],
   "metadata": {
    "collapsed": false,
    "ExecuteTime": {
     "end_time": "2023-07-19T16:39:24.584147Z",
     "start_time": "2023-07-19T16:39:24.504501Z"
    }
   }
  },
  {
   "cell_type": "code",
   "execution_count": null,
   "outputs": [],
   "source": [
    "process_NDVI_image(wv3src,wv4dst)"
   ],
   "metadata": {
    "collapsed": false
   }
  },
  {
   "cell_type": "code",
   "execution_count": null,
   "outputs": [],
   "source": [],
   "metadata": {
    "collapsed": false
   }
  }
 ],
 "metadata": {
  "kernelspec": {
   "display_name": "Python 3",
   "language": "python",
   "name": "python3"
  },
  "language_info": {
   "codemirror_mode": {
    "name": "ipython",
    "version": 2
   },
   "file_extension": ".py",
   "mimetype": "text/x-python",
   "name": "python",
   "nbconvert_exporter": "python",
   "pygments_lexer": "ipython2",
   "version": "2.7.6"
  }
 },
 "nbformat": 4,
 "nbformat_minor": 0
}
