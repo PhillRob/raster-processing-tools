{
 "cells": [
  {
   "cell_type": "code",
   "execution_count": null,
   "metadata": {
    "collapsed": true
   },
   "outputs": [],
   "source": [
    "## mashup script for batch changes\n",
    "# del os.environ['PROJ_LIB']\n",
    "import math\n",
    "import rasterio\n",
    "from rasterio.features import shapes\n",
    "from shapely.geometry import shape\n",
    "from geopandas import GeoDataFrame\n",
    "from pandas import DataFrame\n",
    "from collections import Counter\n",
    "from datetime import datetime, timedelta\n",
    "from geopandas.tools import sjoin\n",
    "from pyproj import proj\n",
    "import pandas as pd\n",
    "import csv\n",
    "import matplotlib.pyplot as plt\n",
    "from shapely.geometry import Point\n",
    "import geopandas as gpd\n",
    "import fiona\n",
    "import rasterio\n",
    "from rasterstats import zonal_stats\n",
    "import xarray as xr\n",
    "import numpy as np\n",
    "from osgeo import gdal, gdalconst, osr\n",
    "gdal.UseExceptions()  # not required, but a good idea\n",
    "gdal.AllRegister()\n",
    "# Allow division by zero\n",
    "numpy.seterr(divide='ignore', invalid='ignore')"
   ]
  },
  {
   "cell_type": "code",
   "execution_count": null,
   "metadata": {
    "collapsed": false
   },
   "outputs": [],
   "source": [
    "# Raster dataset\n",
    "infile = r\"D:\\BPLA Dropbox\\08 GIS-data\\GIS-data-Riyadh\\2022-02-NDVI-WVSatellite-image\\2022 SateImage-NDVI-analysis-2048.tif\"\n",
    "outfile = r\"D:\\BPLA Dropbox\\08 GIS-data\\GIS-data-Riyadh\\2022-02-NDVI-WVSatellite-image\\2022 SateImage-NDVI-analysis-2048-bin-1.tif\""
   ]
  },
  {
   "cell_type": "code",
   "execution_count": null,
   "metadata": {
    "collapsed": false
   },
   "outputs": [],
   "source": [
    "# this creates a binary raster based on the threshold\n",
    "def process_image(src_img, dst_img, band_id=1, threshold=0.2):\n",
    "    with rasterio.open(src_img) as src:\n",
    "        kwargs = src.meta\n",
    "        tiles = src.block_windows(band_id)\n",
    "        profile = src.profile\n",
    "        # print(profile)\n",
    "        profile.update(\n",
    "            dtype=rasterio.float32,\n",
    "            count=1,\n",
    "            compress='lzw')\n",
    "        with rasterio.open(dst_img, 'w', **profile) as dst:\n",
    "            for idx, window in tiles:\n",
    "                print(\"Processing Block: \", idx[0]+1, \", \", idx[1]+1)\n",
    "                dst_data = src.read(band_id, window=window)\n",
    "                ndval = src.nodatavals[0]\n",
    "                print(ndval)\n",
    "                dst_data[dst_data==ndval] = np.nan\n",
    "                dst_data[dst_data<threshold]=0\n",
    "                dst_data[dst_data>=threshold]=1\n",
    "                \n",
    "                dst.write_band(band_id, dst_data, window=window)\n",
    "    return"
   ]
  },
  {
   "cell_type": "code",
   "execution_count": null,
   "metadata": {
    "collapsed": false
   },
   "outputs": [],
   "source": [
    "process_image(infile,outfile)"
   ]
  },
  {
   "cell_type": "code",
   "execution_count": null,
   "metadata": {
    "collapsed": false
   },
   "outputs": [],
   "source": [
    "bin_img = r\"D:\\BPLA Dropbox\\08 GIS-data\\GIS-data-Riyadh\\2022-02-NDVI-WVSatellite-image\\2022 SateImage-NDVI-analysis-2048-bin.tif\"\n",
    "with rasterio.open(bin_img) as src:\n",
    "        kwargs = src.meta\n",
    "        tiles = src.block_windows(1)\n",
    "        profile = src.profile\n",
    "        # print(profile)\n",
    "        profile.update(\n",
    "            dtype=rasterio.float32,\n",
    "            count=1,\n",
    "            compress='lzw')\n",
    "\n",
    "        dest = gpd.GeoDataFrame(columns=['class', 'feature'], geometry='feature',crs = src.crs)\n",
    "\n",
    "        for idx, window in tiles:\n",
    "            print(\"Processing Block: \", idx[0]+1, \", \", idx[1]+1)\n",
    "            data = src.read(1, window=window)\n",
    "            ndval = src.nodatavals[0]\n",
    "            data[data==ndval] = np.nan\n",
    "            data[data==0] = np.nan\n",
    "            # window_transform(window)\n",
    "\n",
    "            # Use a generator instead of a list\n",
    "            # shape_gen = ((shape(s), v) for s, v in shapes(data, transform=src.transform))\n",
    "            shape_gen = ((shape(s), v) for s, v in shapes(data, transform=src.window_transform(window)))\n",
    "\n",
    "            # either build a pd.DataFrame\n",
    "            # df = DataFrame(shape_gen, columns=['geometry', 'class'])\n",
    "            # gdf = GeoDataFrame(df[\"class\"], geometry=df.geometry, crs=src.crs)\n",
    "\n",
    "            # or build a dict from unpacked shapes\n",
    "            gdf = GeoDataFrame(dict(zip([\"geometry\", \"class\"], zip(*shape_gen))), crs=src.crs)\n",
    "            gdf = gdf[gdf['class']==1]\n",
    "            dest = pd.concat([dest, gdf])"
   ]
  },
  {
   "cell_type": "code",
   "execution_count": null,
   "metadata": {
    "collapsed": false
   },
   "outputs": [],
   "source": [
    "final= gpd.GeoDataFrame(dest['geometry'])\n",
    "ndvi_vec = r\"D:\\BPLA Dropbox\\08 GIS-data\\GIS-data-Riyadh\\2022-02-NDVI-WVSatellite-image\\2022 SateImage-NDVI-analysis-2048-vec.gpkg\"\n",
    "final.to_file(ndvi_vec, driver='GPKG', layer='2022ndvi')"
   ]
  },
  {
   "cell_type": "code",
   "execution_count": null,
   "metadata": {
    "collapsed": false
   },
   "outputs": [],
   "source": [
    "ruh_urb = r\"C:\\Users\\DroneAdmin\\Downloads\\Urban-Environs-limit.shp\"\n",
    "ruh = gpd.read_file(ruh_urb)"
   ]
  },
  {
   "cell_type": "code",
   "execution_count": null,
   "metadata": {
    "collapsed": false
   },
   "outputs": [],
   "source": [
    "result = gpd.overlay(ruh, final, how='intersection')"
   ]
  },
  {
   "cell_type": "code",
   "execution_count": null,
   "metadata": {
    "collapsed": false
   },
   "outputs": [],
   "source": [
    "print(result.area.sum()/ruh.area*100)\n"
   ]
  },
  {
   "cell_type": "code",
   "execution_count": null,
   "metadata": {},
   "outputs": [],
   "source": []
  }
 ],
 "metadata": {
  "kernelspec": {
   "display_name": "Python 3",
   "language": "python",
   "name": "python3"
  },
  "language_info": {
   "codemirror_mode": {
    "name": "ipython",
    "version": 2
   },
   "file_extension": ".py",
   "mimetype": "text/x-python",
   "name": "python",
   "nbconvert_exporter": "python",
   "pygments_lexer": "ipython2",
   "version": "3.11.4"
  }
 },
 "nbformat": 4,
 "nbformat_minor": 0
}
