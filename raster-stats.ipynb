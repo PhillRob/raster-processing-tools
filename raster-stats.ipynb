{
 "cells": [
  {
   "cell_type": "code",
   "execution_count": null,
   "metadata": {
    "collapsed": true
   },
   "outputs": [],
   "source": [
    "## mashup script for batch changes\n",
    "import os, osgeo\n",
    "# del os.environ['PROJ_LIB']\n",
    "import math\n",
    "import rasterio\n",
    "from rasterio.features import shapes\n",
    "from shapely.geometry import shape\n",
    "from geopandas import GeoDataFrame\n",
    "from pandas import DataFrame\n",
    "from collections import Counter\n",
    "from datetime import datetime, timedelta\n",
    "from geopandas.tools import sjoin\n",
    "from pyproj import proj\n",
    "import pandas as pd\n",
    "import csv\n",
    "import numpy as np\n",
    "import matplotlib.pyplot as plt\n",
    "from shapely.geometry import Point\n",
    "import geopandas as gpd\n",
    "import fiona\n",
    "from fulcrum import Fulcrum\n",
    "import rasterio\n",
    "from rasterstats import zonal_stats\n",
    "import xarray as xr\n",
    "import numpy as np\n",
    "from osgeo import gdal, gdalconst, osr\n",
    "import sys, time, ogr\n",
    "import libpysal\n",
    "gdal.UseExceptions()  # not required, but a good idea\n",
    "gdal.AllRegister()\n",
    "# Allow division by zero\n",
    "numpy.seterr(divide='ignore', invalid='ignore')"
   ]
  },
  {
   "cell_type": "code",
   "execution_count": null,
   "outputs": [],
   "source": [
    "# Raster dataset\n",
    "infile = r\"D:\\BPLA Dropbox\\08 GIS-data\\GIS-data-Riyadh\\2022-02-NDVI-WVSatellite-image\\2022 SateImage-NDVI-analysis-2048.tif\"\n",
    "outfile = r\"D:\\BPLA Dropbox\\08 GIS-data\\GIS-data-Riyadh\\2022-02-NDVI-WVSatellite-image\\2022 SateImage-NDVI-analysis-2048-bin-1.tif\"\n",
    "# datascr = rasterio.open(infile)\n",
    "# out_profile = datascr.profile.copy()\n",
    "# dst = rasterio.open(outfile, 'w', **out_profile)"
   ],
   "metadata": {
    "collapsed": false
   }
  },
  {
   "cell_type": "code",
   "execution_count": null,
   "outputs": [],
   "source": [
    "# this creates a binary raster beaased ont he threshold\n",
    "def process_image(src_img, dst_img, band_id=1, threshold=0.2):\n",
    "    with rasterio.open(src_img) as src:\n",
    "        kwargs = src.meta\n",
    "        tiles = src.block_windows(band_id)\n",
    "        profile = src.profile\n",
    "        # print(profile)\n",
    "        profile.update(\n",
    "            dtype=rasterio.float32,\n",
    "            count=1,\n",
    "            compress='lzw')\n",
    "        with rasterio.open(dst_img, 'w', **profile) as dst:\n",
    "            for idx, window in tiles:\n",
    "                print(\"Processing Block: \", idx[0]+1, \", \", idx[1]+1)\n",
    "                dst_data = src.read(band_id, window=window)\n",
    "                ndval = src.nodatavals[0]\n",
    "                print(ndval)\n",
    "                dst_data[dst_data==ndval] = np.nan\n",
    "                dst_data[dst_data<threshold]=0\n",
    "                dst_data[dst_data>=threshold]=1\n",
    "                # dst_data = src_data ** 2 # Do the Processing Here\n",
    "                dst.write_band(band_id, dst_data, window=window)\n",
    "    return"
   ],
   "metadata": {
    "collapsed": false
   }
  },
  {
   "cell_type": "code",
   "execution_count": null,
   "outputs": [],
   "source": [
    "process_image(infile,outfile)"
   ],
   "metadata": {
    "collapsed": false
   }
  },
  {
   "cell_type": "code",
   "execution_count": null,
   "outputs": [],
   "source": [
    "bin_img = r\"D:\\BPLA Dropbox\\08 GIS-data\\GIS-data-Riyadh\\2022-02-NDVI-WVSatellite-image\\2022 SateImage-NDVI-analysis-2048-bin.tif\"\n",
    "with rasterio.open(bin_img) as src:\n",
    "        kwargs = src.meta\n",
    "        tiles = src.block_windows(1)\n",
    "        profile = src.profile\n",
    "        # print(profile)\n",
    "        profile.update(\n",
    "            dtype=rasterio.float32,\n",
    "            count=1,\n",
    "            compress='lzw')\n",
    "\n",
    "        dest = gpd.GeoDataFrame(columns=['class', 'feature'], geometry='feature',crs = src.crs)\n",
    "\n",
    "        for idx, window in tiles:\n",
    "            print(\"Processing Block: \", idx[0]+1, \", \", idx[1]+1)\n",
    "            data = src.read(1, window=window)\n",
    "            ndval = src.nodatavals[0]\n",
    "            data[data==ndval] = np.nan\n",
    "            data[data==0] = np.nan\n",
    "            # window_transform(window)\n",
    "\n",
    "            # Use a generator instead of a list\n",
    "            # shape_gen = ((shape(s), v) for s, v in shapes(data, transform=src.transform))\n",
    "            shape_gen = ((shape(s), v) for s, v in shapes(data, transform=src.window_transform(window)))\n",
    "\n",
    "            # either build a pd.DataFrame\n",
    "            # df = DataFrame(shape_gen, columns=['geometry', 'class'])\n",
    "            # gdf = GeoDataFrame(df[\"class\"], geometry=df.geometry, crs=src.crs)\n",
    "\n",
    "            # or build a dict from unpacked shapes\n",
    "            gdf = GeoDataFrame(dict(zip([\"geometry\", \"class\"], zip(*shape_gen))), crs=src.crs)\n",
    "            gdf = gdf[gdf['class']==1]\n",
    "            dest = pd.concat([dest, gdf])"
   ],
   "metadata": {
    "collapsed": false
   }
  },
  {
   "cell_type": "code",
   "execution_count": null,
   "outputs": [],
   "source": [
    "final= gpd.GeoDataFrame(dest['geometry'])\n",
    "ndvi_vec = r\"D:\\BPLA Dropbox\\08 GIS-data\\GIS-data-Riyadh\\2022-02-NDVI-WVSatellite-image\\2022 SateImage-NDVI-analysis-2048-vec.gpkg\"\n",
    "final.to_file(ndvi_vec, driver='GPKG', layer='2022ndvi')"
   ],
   "metadata": {
    "collapsed": false
   }
  },
  {
   "cell_type": "code",
   "execution_count": null,
   "outputs": [],
   "source": [
    "ruh_urb = r\"C:\\Users\\DroneAdmin\\Downloads\\Urban-Environs-limit.shp\"\n",
    "ruh = gpd.read_file(ruh_urb)"
   ],
   "metadata": {
    "collapsed": false
   }
  },
  {
   "cell_type": "code",
   "execution_count": null,
   "outputs": [],
   "source": [
    "result = gpd.overlay(ruh, final, how='intersection')"
   ],
   "metadata": {
    "collapsed": false
   }
  },
  {
   "cell_type": "code",
   "execution_count": null,
   "outputs": [],
   "source": [
    "print(result.area.sum()/ruh.area*100)\n",
    "#result['area'] =result.apply(lambda row: row.geometry.area,axis=1)"
   ],
   "metadata": {
    "collapsed": false
   }
  },
  {
   "cell_type": "code",
   "execution_count": null,
   "outputs": [],
   "source": [
    "import libpysal\n",
    "\n",
    "# create spatial weights matrix\n",
    "W = libpysal.weights.Queen.from_dataframe(final)\n",
    "\n",
    "# get component labels\n",
    "components = W.component_labels\n",
    "\n",
    "combined_polygons = gdf.dissolve(by=components)"
   ],
   "metadata": {
    "collapsed": false
   }
  },
  {
   "cell_type": "code",
   "execution_count": null,
   "outputs": [],
   "source": [
    "# Preprocessing based on worldview 3 meta data. This has to be adjusted per image strip\n",
    "# xmldoc = minidom.parse(\"/Users/philipp/BPLA Dropbox/08 GIS-data/GIS-data-Riyadh/2021-WorldView3-8BAnds/21MAY13073945-S2AS-RCRC-8Bands.XML\")\n",
    "# nodes = xmldoc.getElementsByTagName(\"IMD\")\n",
    "#\n",
    "#\n",
    "# document = parse(\"/Users/philipp/BPLA Dropbox/08 GIS-data/GIS-data-Riyadh/2021-WorldView3-8BAnds/21MAY13073945-S2AS-RCRC-8Bands.XML\")\n",
    "# IMD = document.find('IMD')\n",
    "#\n",
    "# bandC_F = IMD.find('BAND_C').findtext('ABSCALFACTOR')\n",
    "# bandB_F = IMD.find('BAND_B').findtext('ABSCALFACTOR')\n",
    "# bandG_F = IMD.find('BAND_G').findtext('ABSCALFACTOR')\n",
    "# bandY_F = IMD.find('BAND_Y').findtext('ABSCALFACTOR')\n",
    "# bandR_F = IMD.find('BAND_R').findtext('ABSCALFACTOR')\n",
    "# bandRE_F = IMD.find('BAND_RE').findtext('ABSCALFACTOR')\n",
    "# bandN_F = IMD.find('BAND_N').findtext('ABSCALFACTOR')\n",
    "# bandN2_F = IMD.find('BAND_N2').findtext('ABSCALFACTOR')\n",
    "# bandC_E = IMD.find('BAND_C').findtext('EFFECTIVEBANDWIDTH')\n",
    "# bandB_E = IMD.find('BAND_B').findtext('EFFECTIVEBANDWIDTH')\n",
    "# bandG_E = IMD.find('BAND_G').findtext('EFFECTIVEBANDWIDTH')\n",
    "# bandY_E = IMD.find('BAND_Y').findtext('EFFECTIVEBANDWIDTH')\n",
    "# bandR_E = IMD.find('BAND_R').findtext('EFFECTIVEBANDWIDTH')\n",
    "# bandRE_E = IMD.find('BAND_RE').findtext('EFFECTIVEBANDWIDTH')\n",
    "# bandN_E = IMD.find('BAND_N').findtext('EFFECTIVEBANDWIDTH')\n",
    "# bandN2_E = IMD.find('BAND_N2').findtext('EFFECTIVEBANDWIDTH')\n",
    "#\n",
    "# gain = 0.964\n",
    "# offset = -3.021\n",
    "#\n",
    "# # Multiply by corresponding coefficients\n",
    "# band_red_c = gain * band_red * (float(bandR_E) / float(bandR_E)) + offset\n",
    "# band_nir_c = gain * band_nir * (float(bandN_E)/float(bandN_E)) +offset\n",
    "# band_nir2_c = gain * band_nir2 * (float(bandN2_E)/float(bandN2_E)) +offset"
   ],
   "metadata": {
    "collapsed": false
   }
  }
 ],
 "metadata": {
  "kernelspec": {
   "display_name": "Python 3",
   "language": "python",
   "name": "python3"
  },
  "language_info": {
   "codemirror_mode": {
    "name": "ipython",
    "version": 2
   },
   "file_extension": ".py",
   "mimetype": "text/x-python",
   "name": "python",
   "nbconvert_exporter": "python",
   "pygments_lexer": "ipython2",
   "version": "2.7.6"
  }
 },
 "nbformat": 4,
 "nbformat_minor": 0
}
