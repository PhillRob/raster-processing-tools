{
 "cells": [
  {
   "cell_type": "code",
   "execution_count": 1,
   "metadata": {},
   "outputs": [
    {
     "ename": "ModuleNotFoundError",
     "evalue": "No module named 'osgeo'",
     "output_type": "error",
     "traceback": [
      "\u001b[1;31m---------------------------------------------------------------------------\u001b[0m",
      "\u001b[1;31mModuleNotFoundError\u001b[0m                       Traceback (most recent call last)",
      "Cell \u001b[1;32mIn[1], line 2\u001b[0m\n\u001b[0;32m      1\u001b[0m \u001b[39m## mashup script for batch changes\u001b[39;00m\n\u001b[1;32m----> 2\u001b[0m \u001b[39mimport\u001b[39;00m \u001b[39mos\u001b[39;00m\u001b[39m,\u001b[39m \u001b[39mosgeo\u001b[39;00m\n\u001b[0;32m      3\u001b[0m \u001b[39m# del os.environ['PROJ_LIB']\u001b[39;00m\n\u001b[0;32m      4\u001b[0m \u001b[39mimport\u001b[39;00m \u001b[39mmath\u001b[39;00m\n",
      "\u001b[1;31mModuleNotFoundError\u001b[0m: No module named 'osgeo'"
     ]
    }
   ],
   "source": [
    "## mashup script for batch changes\n",
    "import os, osgeo\n",
    "# del os.environ['PROJ_LIB']\n",
    "import math\n",
    "import rasterio\n",
    "from rasterio.features import shapes\n",
    "from shapely.geometry import shape\n",
    "from geopandas import GeoDataFrame\n",
    "from pandas import DataFrame\n",
    "from collections import Counter\n",
    "from datetime import datetime, timedelta\n",
    "from geopandas.tools import sjoin\n",
    "from pyproj import proj\n",
    "import pandas as pd\n",
    "import csv\n",
    "import numpy as np\n",
    "import matplotlib.pyplot as plt\n",
    "from shapely.geometry import Point\n",
    "import geopandas as gpd\n",
    "import fiona\n",
    "from fulcrum import Fulcrum\n",
    "import rasterio\n",
    "from rasterstats import zonal_stats\n",
    "import xarray as xr\n",
    "import numpy as np\n",
    "from osgeo import gdal, gdalconst, osr\n",
    "import sys, time, ogr\n",
    "import libpysal\n",
    "gdal.UseExceptions()  # not required, but a good idea\n",
    "gdal.AllRegister()\n",
    "# Allow division by zero\n",
    "np.seterr(divide='ignore', invalid='ignore')"
   ]
  },
  {
   "cell_type": "code",
   "execution_count": 3,
   "metadata": {},
   "outputs": [],
   "source": [
    "raster=r\"D:\\BPLA Dropbox\\03 Planning\\1297-Makkah-Environmental-Sustainability-Strategy\\02-Data\\02-satellite\\Makkah-WV2-ST-2023_I602488\\Makkah-WV2-ST-2023-MOS\\23JAN19075627-S2AM-Makkah-WV2-ST-2023-tiled.png\"\n",
    "# aoi = \"/Users/philipp/BPLA Dropbox/03 Planning/1232-T2-GIS and Remote Sensing-TMO/02_GIS_Data/LandCoverClassificaiton/lcc-trial/aoi-lcc.geojson\"\n",
    "training = r\"D:\\BPLA Dropbox\\03 Planning\\1297-Makkah-Environmental-Sustainability-Strategy\\02-Data\\03-poc\\mekka-training-tree-0.shp\""
   ]
  },
  {
   "cell_type": "code",
   "execution_count": 4,
   "metadata": {},
   "outputs": [
    {
     "name": "stderr",
     "output_type": "stream",
     "text": [
      "C:\\Users\\DroneAdmin\\AppData\\Local\\Temp\\ipykernel_13640\\3821961065.py:4: FutureWarning: Currently, index_parts defaults to True, but in the future, it will default to False to be consistent with Pandas. Use `index_parts=True` to keep the current behavior and True/False to silence the warning.\n",
      "  train_ex = train.explode()\n"
     ]
    }
   ],
   "source": [
    "# read training polygones\n",
    "train = gpd.read_file(training) # this may contain multipolygons\n",
    "train = train.to_crs(32637)\n",
    "train_ex = train.explode()\n",
    "train_ex.geometry=train_ex.centroid # we should use the full range of values inside the polygon not jsust the centroid \n",
    "# train_ex['lon'] = train_ex.centroid.x  \n",
    "# train_ex['lat'] = train_ex.centroid.y\n",
    "# TODO: https://www.matecdev.com/posts/random-points-in-polygon.html"
   ]
  },
  {
   "cell_type": "code",
   "execution_count": 5,
   "metadata": {},
   "outputs": [
    {
     "name": "stdout",
     "output_type": "stream",
     "text": [
      "(3, 123881, 148236)\n",
      "PROJCS[\"WGS 84 / UTM zone 37N\",GEOGCS[\"WGS 84\",DATUM[\"WGS_1984\",SPHEROID[\"WGS 84\",6378137,298.257223563,AUTHORITY[\"EPSG\",\"7030\"]],AUTHORITY[\"EPSG\",\"6326\"]],PRIMEM[\"Greenwich\",0],UNIT[\"degree\",0.0174532925199433,AUTHORITY[\"EPSG\",\"9122\"]],AUTHORITY[\"EPSG\",\"4326\"]],PROJECTION[\"Transverse_Mercator\"],PARAMETER[\"latitude_of_origin\",0],PARAMETER[\"central_meridian\",39],PARAMETER[\"scale_factor\",0.9996],PARAMETER[\"false_easting\",500000],PARAMETER[\"false_northing\",0],UNIT[\"metre\",1,AUTHORITY[\"EPSG\",\"9001\"]],AXIS[\"Easting\",EAST],AXIS[\"Northing\",NORTH],AUTHORITY[\"EPSG\",\"32637\"]]\n",
      "(0.46, 0.46)\n",
      "| 0.46, 0.00, 552743.82|\n",
      "| 0.00,-0.46, 2398842.04|\n",
      "| 0.00, 0.00, 1.00|\n"
     ]
    }
   ],
   "source": [
    "with rasterio.open(raster, 'r') as ds:\n",
    "    arr = ds.read()  # read all raster values\n",
    "    transform = ds.transform \n",
    "    crs = ds.crs\n",
    "    res=ds.res\n",
    "\n",
    "print(arr.shape)\n",
    "print(crs)\n",
    "print(res)\n",
    "print(transform)"
   ]
  },
  {
   "cell_type": "code",
   "execution_count": 6,
   "metadata": {},
   "outputs": [
    {
     "ename": "NameError",
     "evalue": "name 'gw' is not defined",
     "output_type": "error",
     "traceback": [
      "\u001b[1;31m---------------------------------------------------------------------------\u001b[0m",
      "\u001b[1;31mNameError\u001b[0m                                 Traceback (most recent call last)",
      "Cell \u001b[1;32mIn[6], line 6\u001b[0m\n\u001b[0;32m      2\u001b[0m train_ex \u001b[39m=\u001b[39m train_ex\u001b[39m.\u001b[39mto_crs(\u001b[39m'\u001b[39m\u001b[39mepsg:32637\u001b[39m\u001b[39m'\u001b[39m)\n\u001b[0;32m      4\u001b[0m \u001b[39m# with gw.open(raster) as src:\u001b[39;00m\n\u001b[0;32m      5\u001b[0m \u001b[39m#     df = src.gw.extract(train_ex)\u001b[39;00m\n\u001b[1;32m----> 6\u001b[0m \u001b[39mwith\u001b[39;00m gw\u001b[39m.\u001b[39mconfig\u001b[39m.\u001b[39mupdate(sensor\u001b[39m=\u001b[39m\u001b[39m'\u001b[39m\u001b[39mbgr\u001b[39m\u001b[39m'\u001b[39m):\n\u001b[0;32m      7\u001b[0m     \u001b[39mwith\u001b[39;00m gw\u001b[39m.\u001b[39mopen(raster) \u001b[39mas\u001b[39;00m src:\n\u001b[0;32m      8\u001b[0m         df \u001b[39m=\u001b[39m src\u001b[39m.\u001b[39mgw\u001b[39m.\u001b[39mextract(\n\u001b[0;32m      9\u001b[0m             train_ex,\n\u001b[0;32m     10\u001b[0m             band_names\u001b[39m=\u001b[39msrc\u001b[39m.\u001b[39mband\u001b[39m.\u001b[39mvalues\u001b[39m.\u001b[39mtolist()\n\u001b[0;32m     11\u001b[0m         )\n",
      "\u001b[1;31mNameError\u001b[0m: name 'gw' is not defined"
     ]
    }
   ],
   "source": [
    "# Transform the CRS to WGS84 lat/lon\n",
    "train_ex = train_ex.to_crs('epsg:32637')\n",
    "\n",
    "# with gw.open(raster) as src:\n",
    "#     df = src.gw.extract(train_ex)\n",
    "with gw.config.update(sensor='bgr'):\n",
    "    with gw.open(raster) as src:\n",
    "        df = src.gw.extract(\n",
    "            train_ex,\n",
    "            band_names=src.band.values.tolist()\n",
    "        )"
   ]
  }
 ],
 "metadata": {
  "kernelspec": {
   "display_name": "venv",
   "language": "python",
   "name": "python3"
  },
  "language_info": {
   "codemirror_mode": {
    "name": "ipython",
    "version": 3
   },
   "file_extension": ".py",
   "mimetype": "text/x-python",
   "name": "python",
   "nbconvert_exporter": "python",
   "pygments_lexer": "ipython3",
   "version": "3.9.13"
  },
  "orig_nbformat": 4
 },
 "nbformat": 4,
 "nbformat_minor": 2
}
