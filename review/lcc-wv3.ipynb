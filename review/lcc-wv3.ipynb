{
 "cells": [
  {
   "cell_type": "code",
   "execution_count": 1,
   "id": "ff38cdc06a2be6be",
   "metadata": {
    "collapsed": true,
    "ExecuteTime": {
     "end_time": "2023-09-26T07:48:23.321403Z",
     "start_time": "2023-09-26T07:48:20.479244Z"
    }
   },
   "outputs": [],
   "source": [
    "#import packages\n",
    "\n",
    "import rasterio.features\n",
    "import geopandas as gpd\n",
    "import pandas as pd\n",
    "from sklearn.metrics import confusion_matrix\n",
    "import seaborn as sns\n",
    "# import rasterstats as rs\n",
    "# import pyproj\n",
    "# from pyproj import Transformer\n",
    "# import fiona\n",
    "# import random\n",
    "# import scikitlearn\n",
    "# import sklearn\n",
    "# import rasterio\n",
    "import numpy as np\n",
    "import geowombat as gw\n",
    "from sklearn.ensemble import RandomForestClassifier\n",
    "from sklearn.model_selection import train_test_split\n",
    "from sklearn.metrics import accuracy_score\n",
    "import matplotlib.pyplot as plt"
   ]
  },
  {
   "cell_type": "code",
   "execution_count": 2,
   "outputs": [],
   "source": [
    "# #define satellite image, aoi, and training data paths\n",
    "# raster = \"/Users/philipp/BPLA Dropbox/03 Planning/1232-T2-GIS and Remote Sensing-TMO/02_GIS_Data/LandCoverClassificaiton/lcc-trial/21may-lcc.tif\"\n",
    "# raster=\"/Users/philipp/BPLA Dropbox/08 GIS-data/GIS-data-Riyadh/2022-08-DQ-PNEO-satellite-image/geoserve_orthos-saudi-arabia_2023-02-22_1207/oDIM_PNEO4_202208080738351_PMS-FS_SEN_PWOI_000072103_2_1_F_1.tif\"\n",
    "raster=\"/Users/philipp/BPLA Dropbox/03 Planning/1297-Makkah-Environmental-Sustainability-Strategy/02-Data/02-satellite/Makkah-WV2-ST-2023_I602488/Makkah-WV2-ST-2023-MOS/23JAN19075627-S2AM-Makkah-WV2-ST-2023-tiled.png\"\n",
    "# aoi = \"/Users/philipp/BPLA Dropbox/03 Planning/1232-T2-GIS and Remote Sensing-TMO/02_GIS_Data/LandCoverClassificaiton/lcc-trial/aoi-lcc.geojson\"\n",
    "training = \"/Users/philipp/BPLA Dropbox/03 Planning/1297-Makkah-Environmental-Sustainability-Strategy/02-Data/03-poc/mekka-training-tree-0.shp\""
   ],
   "metadata": {
    "collapsed": false,
    "ExecuteTime": {
     "end_time": "2023-09-26T07:48:23.334546Z",
     "start_time": "2023-09-26T07:48:23.327153Z"
    }
   },
   "id": "initial_id"
  },
  {
   "cell_type": "code",
   "execution_count": 3,
   "outputs": [],
   "source": [
    "# read training polygones\n",
    "train = gpd.read_file(training) # this may contain multipolygons\n",
    "train = train.to_crs(32637)\n",
    "train_ex = train.explode()\n",
    "train_ex.geometry=train_ex.centroid # we should use the full range of values inside the polygon not jsust the centroid \n",
    "# train_ex['lon'] = train_ex.centroid.x  \n",
    "# train_ex['lat'] = train_ex.centroid.y\n",
    "# TODO: https://www.matecdev.com/posts/random-points-in-polygon.html\n",
    "# aoi = geopandas.read_file(aoi)"
   ],
   "metadata": {
    "collapsed": false,
    "ExecuteTime": {
     "end_time": "2023-09-26T07:48:24.077452Z",
     "start_time": "2023-09-26T07:48:23.334915Z"
    }
   },
   "id": "34799aa14d25c761"
  },
  {
   "cell_type": "code",
   "execution_count": null,
   "outputs": [],
   "source": [
    "with rasterio.open(raster, 'r') as ds:\n",
    "    arr = ds.read()  # read all raster values\n",
    "    transform = ds.transform \n",
    "    crs = ds.crs\n",
    "    res=ds.res\n",
    "\n",
    "print(arr.shape)\n",
    "print(crs)\n",
    "print(res)\n",
    "print(transform)"
   ],
   "metadata": {
    "collapsed": false
   },
   "id": "8e38beb4a795bb06"
  },
  {
   "cell_type": "code",
   "execution_count": 5,
   "outputs": [
    {
     "name": "stderr",
     "output_type": "stream",
     "text": [
      "11:03:07:ERROR:555:api.__init__:  The file format is not recognized.\n",
      "NoneType: None\n"
     ]
    },
    {
     "ename": "OSError",
     "evalue": "",
     "output_type": "error",
     "traceback": [
      "\u001B[0;31m---------------------------------------------------------------------------\u001B[0m",
      "\u001B[0;31mOSError\u001B[0m                                   Traceback (most recent call last)",
      "Cell \u001B[0;32mIn[5], line 4\u001B[0m\n\u001B[1;32m      1\u001B[0m \u001B[38;5;66;03m# Transform the CRS to WGS84 lat/lon\u001B[39;00m\n\u001B[1;32m      2\u001B[0m train_ex \u001B[38;5;241m=\u001B[39m train_ex\u001B[38;5;241m.\u001B[39mto_crs(\u001B[38;5;124m'\u001B[39m\u001B[38;5;124mepsg:32637\u001B[39m\u001B[38;5;124m'\u001B[39m)\n\u001B[0;32m----> 4\u001B[0m \u001B[38;5;28;01mwith\u001B[39;00m \u001B[43mgw\u001B[49m\u001B[38;5;241;43m.\u001B[39;49m\u001B[43mopen\u001B[49m\u001B[43m(\u001B[49m\u001B[43mraster\u001B[49m\u001B[43m)\u001B[49m \u001B[38;5;28;01mas\u001B[39;00m src:\n\u001B[1;32m      5\u001B[0m     df \u001B[38;5;241m=\u001B[39m src\u001B[38;5;241m.\u001B[39mgw\u001B[38;5;241m.\u001B[39mextract(train_ex)\n\u001B[1;32m      6\u001B[0m \u001B[38;5;66;03m# with gw.config.update(sensor='bgr'):\u001B[39;00m\n\u001B[1;32m      7\u001B[0m \u001B[38;5;66;03m#     with gw.open(raster) as src:\u001B[39;00m\n\u001B[1;32m      8\u001B[0m \u001B[38;5;66;03m#         df = src.gw.extract(\u001B[39;00m\n\u001B[1;32m      9\u001B[0m \u001B[38;5;66;03m#             train_ex,\u001B[39;00m\n\u001B[1;32m     10\u001B[0m \u001B[38;5;66;03m#             band_names=src.band.values.tolist()\u001B[39;00m\n\u001B[1;32m     11\u001B[0m \u001B[38;5;66;03m#         )\u001B[39;00m\n",
      "File \u001B[0;32m~/opt/anaconda3/envs/remote-sensing-wv3/lib/python3.10/site-packages/geowombat/core/api.py:556\u001B[0m, in \u001B[0;36mopen.__init__\u001B[0;34m(self, filename, band_names, time_names, stack_dim, bounds, bounds_by, resampling, persist_filenames, netcdf_vars, mosaic, overlap, nodata, scale_factor, offset, dtype, scale_data, num_workers, **kwargs)\u001B[0m\n\u001B[1;32m    551\u001B[0m \u001B[38;5;28;01mif\u001B[39;00m (\n\u001B[1;32m    552\u001B[0m     file_names\u001B[38;5;241m.\u001B[39mf_ext\u001B[38;5;241m.\u001B[39mlower()\n\u001B[1;32m    553\u001B[0m     \u001B[38;5;129;01mnot\u001B[39;00m \u001B[38;5;129;01min\u001B[39;00m IO_DICT[\u001B[38;5;124m'\u001B[39m\u001B[38;5;124mrasterio\u001B[39m\u001B[38;5;124m'\u001B[39m] \u001B[38;5;241m+\u001B[39m IO_DICT[\u001B[38;5;124m'\u001B[39m\u001B[38;5;124mxarray\u001B[39m\u001B[38;5;124m'\u001B[39m]\n\u001B[1;32m    554\u001B[0m ) \u001B[38;5;129;01mand\u001B[39;00m \u001B[38;5;129;01mnot\u001B[39;00m filename\u001B[38;5;241m.\u001B[39mlower()\u001B[38;5;241m.\u001B[39mstartswith(\u001B[38;5;124m'\u001B[39m\u001B[38;5;124mnetcdf:\u001B[39m\u001B[38;5;124m'\u001B[39m):\n\u001B[1;32m    555\u001B[0m     logger\u001B[38;5;241m.\u001B[39mexception(\u001B[38;5;124m'\u001B[39m\u001B[38;5;124m  The file format is not recognized.\u001B[39m\u001B[38;5;124m'\u001B[39m)\n\u001B[0;32m--> 556\u001B[0m     \u001B[38;5;28;01mraise\u001B[39;00m \u001B[38;5;167;01mOSError\u001B[39;00m\n\u001B[1;32m    558\u001B[0m \u001B[38;5;28;01mif\u001B[39;00m (\n\u001B[1;32m    559\u001B[0m     file_names\u001B[38;5;241m.\u001B[39mf_ext\u001B[38;5;241m.\u001B[39mlower() \u001B[38;5;129;01min\u001B[39;00m IO_DICT[\u001B[38;5;124m'\u001B[39m\u001B[38;5;124mrasterio\u001B[39m\u001B[38;5;124m'\u001B[39m]\n\u001B[1;32m    560\u001B[0m ) \u001B[38;5;129;01mor\u001B[39;00m filename\u001B[38;5;241m.\u001B[39mlower()\u001B[38;5;241m.\u001B[39mstartswith(\u001B[38;5;124m'\u001B[39m\u001B[38;5;124mnetcdf:\u001B[39m\u001B[38;5;124m'\u001B[39m):\n\u001B[1;32m    561\u001B[0m     \u001B[38;5;28;01mif\u001B[39;00m \u001B[38;5;124m'\u001B[39m\u001B[38;5;124mchunks\u001B[39m\u001B[38;5;124m'\u001B[39m \u001B[38;5;129;01mnot\u001B[39;00m \u001B[38;5;129;01min\u001B[39;00m kwargs:\n",
      "\u001B[0;31mOSError\u001B[0m: "
     ]
    }
   ],
   "source": [
    "# Transform the CRS to WGS84 lat/lon\n",
    "train_ex = train_ex.to_crs('epsg:32637')\n",
    "# \n",
    "# with gw.open(raster) as src:\n",
    "#     df = src.gw.extract(train_ex)\n",
    "\n",
    "with gw.config.update(sensor='bgr'):\n",
    "    with gw.open(raster) as src:\n",
    "        df = src.gw.extract(\n",
    "            train_ex,\n",
    "            band_names=src.band.values.tolist()\n",
    "        )"
   ],
   "metadata": {
    "collapsed": false,
    "ExecuteTime": {
     "end_time": "2023-09-26T09:03:07.803591Z",
     "start_time": "2023-09-26T09:03:07.427952Z"
    }
   },
   "id": "fe323d95731cc02e"
  },
  {
   "cell_type": "code",
   "execution_count": null,
   "outputs": [],
   "source": [
    "\n",
    "import numpy as np\n",
    "raster =Image.open('image.tif')"
   ],
   "metadata": {
    "collapsed": false
   },
   "id": "2e8a67f3bd39c41b"
  },
  {
   "cell_type": "code",
   "execution_count": null,
   "outputs": [],
   "source": [
    "src = rasterio.open(raster)\n",
    "\n",
    "src.is_tiled\n",
    "src.block_shapes"
   ],
   "metadata": {
    "collapsed": false
   },
   "id": "17d75c393238ce37"
  },
  {
   "cell_type": "code",
   "execution_count": null,
   "outputs": [],
   "source": [
    "import dask_image.imread"
   ],
   "metadata": {
    "collapsed": false
   },
   "id": "d6147812c38e063d"
  },
  {
   "cell_type": "code",
   "execution_count": null,
   "outputs": [],
   "source": [
    "ortho=dask_image.imread.imread(raster)"
   ],
   "metadata": {
    "collapsed": false
   },
   "id": "a2020d5e0b3dce1"
  },
  {
   "cell_type": "code",
   "execution_count": null,
   "outputs": [],
   "source": [
    "data = np.array(ortho)"
   ],
   "metadata": {
    "collapsed": false
   },
   "id": "9e84c256704c6cb9"
  },
  {
   "cell_type": "code",
   "execution_count": null,
   "outputs": [],
   "source": [
    "ortho.shape"
   ],
   "metadata": {
    "collapsed": false
   },
   "id": "22281ddd846dbb40"
  },
  {
   "cell_type": "code",
   "execution_count": null,
   "outputs": [],
   "source": [
    "with rasterio.open(raster, 'r') as ds:\n",
    "    arr = ds.read()  # read all raster values\n",
    "    transform = ds.transform \n",
    "    crs = ds.crs\n",
    "    res=ds.res\n",
    "\n",
    "print(arr.shape)\n",
    "print(crs)\n",
    "print(res)\n",
    "print(transform)"
   ],
   "metadata": {
    "collapsed": false
   },
   "id": "63b3001ba77a5492"
  },
  {
   "cell_type": "code",
   "execution_count": null,
   "outputs": [],
   "source": [
    "# src = rasterio.open(raster)\n",
    "# transform = src.transform \n",
    "# crs = src.crs\n",
    "# array = src.read()\n",
    "# print(crs)\n",
    "# print(src.res)"
   ],
   "metadata": {
    "collapsed": false
   },
   "id": "69e77b323320be27"
  },
  {
   "cell_type": "code",
   "execution_count": null,
   "outputs": [],
   "source": [
    "# Transform the CRS to WGS84 lat/lon\n",
    "train_ex = train_ex.to_crs('epsg:32637')\n",
    "\n",
    "# with gw.open(raster) as src:\n",
    "#     df = src.gw.extract(train_ex)\n",
    "with gw.config.update(sensor='bgr'):\n",
    "    with gw.open(raster) as src:\n",
    "        df = src.gw.extract(\n",
    "            train_ex,\n",
    "            band_names=src.band.values.tolist()\n",
    "        )"
   ],
   "metadata": {
    "collapsed": false
   },
   "id": "9fad4d0f3d11cb27"
  },
  {
   "cell_type": "code",
   "execution_count": null,
   "outputs": [],
   "source": [
    "df"
   ],
   "metadata": {
    "collapsed": false
   },
   "id": "38917b07945da513"
  },
  {
   "cell_type": "code",
   "execution_count": null,
   "outputs": [],
   "source": [
    "# Assign class labels based on your training data\n",
    "target = df['ano'].values\n",
    "data_in = df[[\"blue\",\"red\",\"green\"]]\n",
    "\n",
    "# Split the data into training and validation sets\n",
    "# from scikit learn package, we use the function train_test_split \n",
    "X_train, X_val, y_train, y_val = train_test_split(data_in, target, test_size=0.2, random_state=42)#, stratify=target)"
   ],
   "metadata": {
    "collapsed": false
   },
   "id": "76f41c74f809be05"
  },
  {
   "cell_type": "code",
   "execution_count": null,
   "outputs": [],
   "source": [
    "# create a Random Forest Classifier instance\n",
    "rf = RandomForestClassifier(n_estimators=100, max_depth=10, random_state=42, oob_score=True)\n",
    "\n",
    "# fit the model to our training data\n",
    "rf.fit(X_train, y_train)\n",
    "\n",
    "# predict on validataion data\n",
    "predicted = rf.predict(X_val)"
   ],
   "metadata": {
    "collapsed": false
   },
   "id": "dff09e8e02428347"
  },
  {
   "cell_type": "code",
   "execution_count": null,
   "outputs": [],
   "source": [
    "# accuracy \n",
    "accuracy = accuracy_score(y_val, predicted)\n",
    "print(f'Out-of-bag score estimate: {rf.oob_score_:.3}')\n",
    "print(f'Mean accuracy score: {accuracy:.3}')"
   ],
   "metadata": {
    "collapsed": false
   },
   "id": "c92a1deac6635544"
  },
  {
   "cell_type": "code",
   "execution_count": null,
   "outputs": [],
   "source": [
    "cm = pd.DataFrame(confusion_matrix(y_val, predicted), columns=df.ano.unique(), index=df.ano.unique())\n",
    "sns.heatmap(cm, annot=True)"
   ],
   "metadata": {
    "collapsed": false
   },
   "id": "c773cebd43efa2c3"
  },
  {
   "cell_type": "code",
   "execution_count": null,
   "outputs": [],
   "source": [
    "#combine bands into a single numpy array\n",
    "band1 = src.read(1)\n",
    "band2 = src.read(2)\n",
    "band3 = src.read(3)\n",
    "bands = np.array([band1, band2, band3])"
   ],
   "metadata": {
    "collapsed": false
   },
   "id": "4ab9287794c0d3ce"
  },
  {
   "cell_type": "code",
   "execution_count": null,
   "outputs": [],
   "source": [
    "rasterpd = pd.DataFrame(bands.reshape([3,-1]).T)"
   ],
   "metadata": {
    "collapsed": false
   },
   "id": "9f6c6e1baae57d05"
  },
  {
   "cell_type": "code",
   "execution_count": null,
   "outputs": [],
   "source": [
    "rasterpd.head()"
   ],
   "metadata": {
    "collapsed": false
   },
   "id": "8d053a456bc10d0e"
  },
  {
   "cell_type": "code",
   "execution_count": null,
   "outputs": [],
   "source": [
    "pred_all = rf.predict(rasterpd)"
   ],
   "metadata": {
    "collapsed": false
   },
   "id": "c811a1e3642855e2"
  },
  {
   "cell_type": "code",
   "execution_count": null,
   "outputs": [],
   "source": [
    "pred_all.shape"
   ],
   "metadata": {
    "collapsed": false
   },
   "id": "d534288dc342eea9"
  },
  {
   "cell_type": "code",
   "execution_count": null,
   "outputs": [],
   "source": [
    "pred_raster_int = np.unique(pred_all, return_inverse = True)[1]  "
   ],
   "metadata": {
    "collapsed": false
   },
   "id": "75e35754843b0caf"
  },
  {
   "cell_type": "code",
   "execution_count": null,
   "outputs": [],
   "source": [
    "pred_raster=pred_raster_int.reshape([15568,13513])"
   ],
   "metadata": {
    "collapsed": false
   },
   "id": "a748ddf7ced5d924"
  },
  {
   "cell_type": "code",
   "execution_count": null,
   "outputs": [],
   "source": [
    "from rasterio.plot import show_hist\n",
    "from matplotlib import pyplot\n",
    "from rasterio.plot import show\n",
    "fig, (axrgb, axhist) = pyplot.subplots(1, 2, figsize=(14,7))\n",
    "show(pred_raster, ax=axrgb)\n",
    "show_hist(pred_raster, bins=50, histtype='stepfilled',\n",
    "          lw=0.0, stacked=False, alpha=0.3, ax=axhist)\n",
    "pyplot.show()"
   ],
   "metadata": {
    "collapsed": false
   },
   "id": "e0ecfafc5cfa5936"
  },
  {
   "cell_type": "code",
   "execution_count": null,
   "outputs": [],
   "source": [
    "# predict_df = pd.DataFrame(pred_all)"
   ],
   "metadata": {
    "collapsed": false
   },
   "id": "64931828e770aecd"
  },
  {
   "cell_type": "code",
   "execution_count": null,
   "outputs": [],
   "source": [
    "# Define the export parameters\n",
    "#export_params is a python dictionary\n",
    "export_params = {\n",
    "    'image': pred_raster,\n",
    "    'driver': 'GTiff',\n",
    "    'height': src.shape[0],\n",
    "    'width': src.shape[1],\n",
    "    'count': 1,\n",
    "    'dtype': 'int8',\n",
    "    'crs': src.crs,\n",
    "    'transform': src.transform,\n",
    "}\n",
    "\n",
    "# Save the classified image as a GeoTIFF \n",
    "with rasterio.open(\"lcc_classification1.tif\", \"w\", **export_params) as dst:\n",
    "    dst.write(pred_raster, 1)"
   ],
   "metadata": {
    "collapsed": false
   },
   "id": "5a4b415d6846d2c8"
  },
  {
   "cell_type": "code",
   "execution_count": null,
   "outputs": [],
   "source": [
    "Model_apply_predict_df = pd.DataFrame(pred_all)\n",
    "#https://gis.stackexchange.com/questions/362804/calculate-new-band-for-satellite-image-after-predict-values-with-rf"
   ],
   "metadata": {
    "collapsed": false
   },
   "id": "340bb76dc9a61e0"
  },
  {
   "cell_type": "code",
   "execution_count": null,
   "outputs": [],
   "source": [],
   "metadata": {
    "collapsed": false
   },
   "id": "75ec56b5606d7f70"
  }
 ],
 "metadata": {
  "kernelspec": {
   "display_name": "Python 3",
   "language": "python",
   "name": "python3"
  },
  "language_info": {
   "codemirror_mode": {
    "name": "ipython",
    "version": 2
   },
   "file_extension": ".py",
   "mimetype": "text/x-python",
   "name": "python",
   "nbconvert_exporter": "python",
   "pygments_lexer": "ipython2",
   "version": "2.7.6"
  }
 },
 "nbformat": 4,
 "nbformat_minor": 5
}
