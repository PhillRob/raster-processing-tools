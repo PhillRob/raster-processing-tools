{
 "cells": [
  {
   "cell_type": "code",
   "execution_count": null,
   "metadata": {},
   "outputs": [],
   "source": [
    "## mashup script for batch changes\n",
    "import os, osgeo\n",
    "del os.environ['PROJ_LIB']\n",
    "import math\n",
    "from collections import Counter\n",
    "from datetime import datetime, timedelta\n",
    "from geopandas.tools import sjoin\n",
    "from pyproj import proj\n",
    "import pandas as pd\n",
    "import csv\n",
    "import utils\n",
    "import numpy as np\n",
    "import matplotlib.pyplot as plt\n",
    "from shapely.geometry import Point\n",
    "import geopandas as gpd\n",
    "import fiona\n",
    "from fulcrum import Fulcrum\n",
    "import rasterio\n",
    "from rasterstats import zonal_stats\n",
    "import xarray as xr\n",
    "import numpy as np\n",
    "from osgeo import gdal, gdalconst,osr\n",
    "import sys, time\n",
    "gdal.UseExceptions()  # not required, but a good idea\n",
    "gdal.AllRegister()\n",
    "import ogr"
   ]
  },
  {
   "cell_type": "code",
   "execution_count": null,
   "metadata": {},
   "outputs": [],
   "source": [
    "\"gdal_translate -of GTIFF -srcwin \" + str(i)+ \", \" + str(j) + \", \" + str(tile_size_x) + \", \" + str(tile_size_y) + \" \" + str(in_path) + \" \" + str(out_path) + str(i) + \"_\" + str(j) + \".tif\"\n"
   ]
  },
  {
   "cell_type": "code",
   "execution_count": null,
   "metadata": {},
   "outputs": [],
   "source": [
    "in_path = r\"D:\\BPLA Dropbox\\08 GIS-data\\GIS-data-Riyadh\\2022-02-NDVI-WVSatellite-image\\2022 SateImage-NDVI-analysis-2048.tif\"\n",
    "\n",
    "out_path = r\"D:\\BPLA Dropbox\\08 GIS-data\\GIS-data-Riyadh\\2022-02-NDVI-WVSatellite-image\\Tiles\\tile_.tif\"\n",
    "\n",
    "tile_size_x = 2048\n",
    "tile_size_y = 2048\n",
    "\n",
    "ds = gdal.Open(in_path)\n",
    "band = ds.GetRasterBand(1)\n",
    "xsize = band.XSize\n",
    "ysize = band.YSize\n",
    "\n",
    "for i in range(0, xsize, tile_size_x):\n",
    "    for j in range(0, ysize, tile_size_y):\n",
    "        com_string = \"gdal_translate -of GTIFF -srcwin \" + str(i)+ \", \" + str(j) + \", \" + str(tile_size_x) + \", \" + str(tile_size_y) + \" \" + str(i) + \"_\" + str(j) + str(out_path)\n",
    "        os.system(com_string)"
   ]
  },
  {
   "cell_type": "code",
   "execution_count": null,
   "metadata": {},
   "outputs": [],
   "source": [
    "from splitraster import io\n",
    "\n",
    "input_image_path = r\"D:\\BPLA Dropbox\\08 GIS-data\\GIS-data-Riyadh\\2022-02-NDVI-WVSatellite-image\\2022 SateImage-NDVI-analysis-2048.tif\"\n",
    "\n",
    "\n",
    "save_path = r\"D:\\BPLA Dropbox\\08 GIS-data\\GIS-data-Riyadh\\2022-02-NDVI-WVSatellite-image\\Tiles\"\n",
    "crop_size = 2048\n",
    "repetition_rate = 0.5\n",
    "overwrite = False\n",
    "\n",
    "n = io.split_image(input_image_path, save_path, crop_size,\n",
    "                   repetition_rate=repetition_rate, overwrite=overwrite)\n",
    "print(f\"{n} tiles sample of {input_image_path} are added at {save_path}\")\n",
    "\n",
    "#save_path_gt = \"./data/processed/GT\"\n",
    "#n = io.split_image(gt_image_path, save_path_gt, crop_size,\n",
    "#                   repetition_rate=repetition_rate, overwrite=overwrite)\n",
    "#print(f\"{n} tiles sample of {gt_image_path} are added at {save_path_gt}\")"
   ]
  },
  {
   "cell_type": "code",
   "execution_count": null,
   "metadata": {},
   "outputs": [],
   "source": [
    "os.chdir(r'D:\\BPLA Dropbox\\08 GIS-data\\GIS-data-Riyadh\\2022-02-NDVI-WVSatellite-image')\n",
    "# register all of the GDAL drivers\n",
    "gdal.AllRegister()\n",
    "# open the image\n",
    "ds = gdal.Open('2022 SateImage-NDVI-analysis-2048.tif')\n",
    "if ds is None:\n",
    "    print(\"Could not open aster\")\n",
    "    sys.exit(1)\n",
    "#OS Python week 4: Reading raster data [51]\n",
    "# get image size\n",
    "rows = ds.RasterYSize\n",
    "cols = ds.RasterXSize\n",
    "bands = ds.RasterCount\n",
    "# get the band and block sizes\n",
    "band = ds.GetRasterBand(1)\n",
    "blockSizes = GetRasterBand.GetBlockSize(band)\n",
    "xBlockSize = blockSizes[0]\n",
    "yBlockSize = blockSizes[1]\n",
    "# initialize variable\n",
    "count = 0"
   ]
  },
  {
   "cell_type": "code",
   "execution_count": null,
   "metadata": {},
   "outputs": [],
   "source": [
    "# Raster dataset\n",
    "infile = r\"D:\\BPLA Dropbox\\08 GIS-data\\GIS-data-Riyadh\\2022-02-NDVI-WVSatellite-image\\2022 SateImage-NDVI-analysis-2048.tif\"\n",
    "outfile = r\"D:\\BPLA Dropbox\\08 GIS-data\\GIS-data-Riyadh\\2022-02-NDVI-WVSatellite-image\\2022 SateImage-NDVI-analysis-2048-bin.tif\"\n",
    "datascr = rasterio.open(infile)\n",
    "out_profile = datascr.profile.copy()\n",
    "dst = rasterio.open(outfile, 'w', **out_profile)\n"
   ]
  },
  {
   "cell_type": "code",
   "execution_count": null,
   "metadata": {},
   "outputs": [],
   "source": []
  },
  {
   "cell_type": "code",
   "execution_count": null,
   "metadata": {},
   "outputs": [],
   "source": []
  },
  {
   "cell_type": "code",
   "execution_count": null,
   "metadata": {},
   "outputs": [],
   "source": []
  }
 ],
 "metadata": {
  "kernelspec": {
   "display_name": "venv",
   "language": "python",
   "name": "python3"
  },
  "language_info": {
   "codemirror_mode": {
    "name": "ipython",
    "version": 3
   },
   "file_extension": ".py",
   "mimetype": "text/x-python",
   "name": "python",
   "nbconvert_exporter": "python",
   "pygments_lexer": "ipython3",
   "version": "3.11.4"
  },
  "orig_nbformat": 4
 },
 "nbformat": 4,
 "nbformat_minor": 2
}
